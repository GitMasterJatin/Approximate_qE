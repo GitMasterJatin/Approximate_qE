{
 "cells": [
  {
   "cell_type": "code",
   "execution_count": 1,
   "id": "5c790119",
   "metadata": {},
   "outputs": [],
   "source": [
    "import numpy as np\n",
    "import pandas as pd\n"
   ]
  },
  {
   "cell_type": "code",
   "execution_count": 2,
   "id": "574137b9",
   "metadata": {},
   "outputs": [],
   "source": [
    "df=pd.read_csv(\"merged_data.csv\")"
   ]
  },
  {
   "cell_type": "code",
   "execution_count": 8,
   "id": "00645307",
   "metadata": {},
   "outputs": [
    {
     "data": {
      "text/plain": [
       "5887471.5705173975"
      ]
     },
     "execution_count": 8,
     "metadata": {},
     "output_type": "execute_result"
    }
   ],
   "source": [
    "np.sum(df.iloc[:,0:1].values)"
   ]
  },
  {
   "cell_type": "code",
   "execution_count": null,
   "id": "96f0f568",
   "metadata": {},
   "outputs": [],
   "source": []
  }
 ],
 "metadata": {
  "kernelspec": {
   "display_name": "base",
   "language": "python",
   "name": "python3"
  },
  "language_info": {
   "codemirror_mode": {
    "name": "ipython",
    "version": 3
   },
   "file_extension": ".py",
   "mimetype": "text/x-python",
   "name": "python",
   "nbconvert_exporter": "python",
   "pygments_lexer": "ipython3",
   "version": "3.11.8"
  }
 },
 "nbformat": 4,
 "nbformat_minor": 5
}
